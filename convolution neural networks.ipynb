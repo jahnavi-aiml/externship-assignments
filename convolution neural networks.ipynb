{
 "cells": [
  {
   "cell_type": "code",
   "execution_count": 4,
   "metadata": {},
   "outputs": [],
   "source": [
    "from tensorflow.keras.models import Sequential\n",
    "from tensorflow.keras.layers import Dense\n",
    "from tensorflow.keras.layers import Convolution2D\n",
    "from tensorflow.keras.layers import MaxPooling2D\n",
    "from tensorflow.keras.layers import Flatten"
   ]
  },
  {
   "cell_type": "code",
   "execution_count": 3,
   "metadata": {},
   "outputs": [],
   "source": [
    "from keras.preprocessing.image import ImageDataGenerator\n",
    "train_datagen=ImageDataGenerator(rescale=1./255,shear_range=0.2,zoom_range=0.2,horizontal_flip=True)\n",
    "test_datagen=ImageDataGenerator(rescale=1./255)"
   ]
  },
  {
   "cell_type": "code",
   "execution_count": 6,
   "metadata": {},
   "outputs": [
    {
     "name": "stdout",
     "output_type": "stream",
     "text": [
      "Found 1495 images belonging to 5 classes.\n",
      "Found 640 images belonging to 5 classes.\n"
     ]
    }
   ],
   "source": [
    "x_train=train_datagen.flow_from_directory(r\"C:\\jppy\\Crop-animal data\\trainset\",target_size=(64,64),batch_size=32,class_mode=\"categorical\")\n",
    "x_test=test_datagen.flow_from_directory(r\"C:\\jppy\\Crop-animal data\\testset\",target_size=(64,64),batch_size=32,class_mode=\"categorical\")"
   ]
  },
  {
   "cell_type": "code",
   "execution_count": 7,
   "metadata": {},
   "outputs": [],
   "source": [
    "model=Sequential()\n"
   ]
  },
  {
   "cell_type": "code",
   "execution_count": 8,
   "metadata": {},
   "outputs": [
    {
     "name": "stdout",
     "output_type": "stream",
     "text": [
      "WARNING:tensorflow:From C:\\Users\\JahnaviP\\Anaconda3\\lib\\site-packages\\tensorflow\\python\\ops\\init_ops.py:1251: calling VarianceScaling.__init__ (from tensorflow.python.ops.init_ops) with dtype is deprecated and will be removed in a future version.\n",
      "Instructions for updating:\n",
      "Call initializer instance with the dtype argument instead of passing it to the constructor\n"
     ]
    }
   ],
   "source": [
    "model.add(Convolution2D(32,(3,3),input_shape=(64,64,3),activation=\"relu\"))\n",
    "#1=no of feature detectors 2- size of featuire detectors 3-target size is 64,64 3 is channels rgb,coloured  "
   ]
  },
  {
   "cell_type": "code",
   "execution_count": 9,
   "metadata": {},
   "outputs": [],
   "source": [
    "model.add(MaxPooling2D(2,2))"
   ]
  },
  {
   "cell_type": "code",
   "execution_count": 10,
   "metadata": {},
   "outputs": [],
   "source": [
    "model.add(Flatten())"
   ]
  },
  {
   "cell_type": "code",
   "execution_count": 11,
   "metadata": {},
   "outputs": [
    {
     "name": "stdout",
     "output_type": "stream",
     "text": [
      "WARNING:tensorflow:From C:\\Users\\JahnaviP\\Anaconda3\\lib\\site-packages\\tensorflow\\python\\keras\\initializers.py:119: calling RandomUniform.__init__ (from tensorflow.python.ops.init_ops) with dtype is deprecated and will be removed in a future version.\n",
      "Instructions for updating:\n",
      "Call initializer instance with the dtype argument instead of passing it to the constructor\n"
     ]
    }
   ],
   "source": [
    "model.add(Dense(units=512,activation=\"relu\",kernel_initializer=\"random_uniform\"))"
   ]
  },
  {
   "cell_type": "code",
   "execution_count": 12,
   "metadata": {},
   "outputs": [],
   "source": [
    "model.add(Dense(units=5,activation=\"softmax\",kernel_initializer=\"random_uniform\"))"
   ]
  },
  {
   "cell_type": "code",
   "execution_count": 14,
   "metadata": {},
   "outputs": [],
   "source": [
    "model.compile(\"sgd\",loss=\"categorical_crossentropy\",metrics=[\"accuracy\"])"
   ]
  },
  {
   "cell_type": "code",
   "execution_count": 21,
   "metadata": {},
   "outputs": [
    {
     "name": "stdout",
     "output_type": "stream",
     "text": [
      "Epoch 1/35\n",
      "47/47 [==============================] - 9s 194ms/step - loss: 1.1295 - acc: 0.5418 - val_loss: 0.9946 - val_acc: 0.6094\n",
      "Epoch 2/35\n",
      "47/47 [==============================] - 8s 177ms/step - loss: 1.0898 - acc: 0.5726 - val_loss: 1.0036 - val_acc: 0.6344\n",
      "Epoch 3/35\n",
      "47/47 [==============================] - 8s 177ms/step - loss: 1.0912 - acc: 0.5505 - val_loss: 0.9590 - val_acc: 0.6234\n",
      "Epoch 4/35\n",
      "47/47 [==============================] - 8s 178ms/step - loss: 1.0701 - acc: 0.5913 - val_loss: 0.8249 - val_acc: 0.7063\n",
      "Epoch 5/35\n",
      "47/47 [==============================] - 8s 172ms/step - loss: 1.0728 - acc: 0.5732 - val_loss: 0.9086 - val_acc: 0.6953\n",
      "Epoch 6/35\n",
      "47/47 [==============================] - 9s 185ms/step - loss: 1.0663 - acc: 0.5686 - val_loss: 0.8665 - val_acc: 0.6953\n",
      "Epoch 7/35\n",
      "47/47 [==============================] - 9s 194ms/step - loss: 1.0437 - acc: 0.5900 - val_loss: 0.8305 - val_acc: 0.7234\n",
      "Epoch 8/35\n",
      "47/47 [==============================] - 9s 199ms/step - loss: 1.0137 - acc: 0.5967 - val_loss: 1.0313 - val_acc: 0.5719\n",
      "Epoch 9/35\n",
      "47/47 [==============================] - 9s 187ms/step - loss: 1.0043 - acc: 0.6040 - val_loss: 0.8827 - val_acc: 0.6484\n",
      "Epoch 10/35\n",
      "47/47 [==============================] - 9s 187ms/step - loss: 0.9775 - acc: 0.6268 - val_loss: 0.8188 - val_acc: 0.6984\n",
      "Epoch 11/35\n",
      "47/47 [==============================] - 9s 184ms/step - loss: 0.9879 - acc: 0.6214 - val_loss: 0.9434 - val_acc: 0.6562\n",
      "Epoch 12/35\n",
      "47/47 [==============================] - 9s 193ms/step - loss: 0.9569 - acc: 0.6274 - val_loss: 0.7257 - val_acc: 0.7484\n",
      "Epoch 13/35\n",
      "47/47 [==============================] - 9s 192ms/step - loss: 0.9726 - acc: 0.6227 - val_loss: 0.8105 - val_acc: 0.6859\n",
      "Epoch 14/35\n",
      "47/47 [==============================] - 9s 197ms/step - loss: 0.9220 - acc: 0.6448 - val_loss: 0.6815 - val_acc: 0.7594\n",
      "Epoch 15/35\n",
      "47/47 [==============================] - 9s 201ms/step - loss: 0.9180 - acc: 0.6528 - val_loss: 0.6578 - val_acc: 0.7500\n",
      "Epoch 16/35\n",
      "47/47 [==============================] - 9s 199ms/step - loss: 0.9041 - acc: 0.6435 - val_loss: 0.7130 - val_acc: 0.7406\n",
      "Epoch 17/35\n",
      "47/47 [==============================] - 9s 195ms/step - loss: 0.8822 - acc: 0.6622 - val_loss: 0.8979 - val_acc: 0.6187\n",
      "Epoch 18/35\n",
      "47/47 [==============================] - 9s 199ms/step - loss: 0.8875 - acc: 0.6555 - val_loss: 0.7232 - val_acc: 0.7234\n",
      "Epoch 19/35\n",
      "47/47 [==============================] - 9s 195ms/step - loss: 0.8696 - acc: 0.6609 - val_loss: 0.9031 - val_acc: 0.6203\n",
      "Epoch 20/35\n",
      "47/47 [==============================] - 9s 198ms/step - loss: 0.8742 - acc: 0.6702 - val_loss: 0.7312 - val_acc: 0.7063\n",
      "Epoch 21/35\n",
      "47/47 [==============================] - 9s 194ms/step - loss: 0.8622 - acc: 0.6702 - val_loss: 0.7274 - val_acc: 0.7281\n",
      "Epoch 22/35\n",
      "47/47 [==============================] - 9s 195ms/step - loss: 0.8046 - acc: 0.7057 - val_loss: 0.6085 - val_acc: 0.7891\n",
      "Epoch 23/35\n",
      "47/47 [==============================] - 10s 203ms/step - loss: 0.8261 - acc: 0.6957 - val_loss: 0.7278 - val_acc: 0.7172\n",
      "Epoch 24/35\n",
      "47/47 [==============================] - 9s 194ms/step - loss: 0.8046 - acc: 0.6849 - val_loss: 0.5710 - val_acc: 0.8172\n",
      "Epoch 25/35\n",
      "47/47 [==============================] - 9s 184ms/step - loss: 0.8075 - acc: 0.6977 - val_loss: 0.6598 - val_acc: 0.7781\n",
      "Epoch 26/35\n",
      "47/47 [==============================] - 9s 193ms/step - loss: 0.7591 - acc: 0.7324 - val_loss: 0.6338 - val_acc: 0.7531\n",
      "Epoch 27/35\n",
      "47/47 [==============================] - 9s 189ms/step - loss: 0.7643 - acc: 0.7151 - val_loss: 0.7923 - val_acc: 0.6875\n",
      "Epoch 28/35\n",
      "47/47 [==============================] - 10s 208ms/step - loss: 0.7556 - acc: 0.7224 - val_loss: 0.5502 - val_acc: 0.8313\n",
      "Epoch 29/35\n",
      "47/47 [==============================] - 9s 194ms/step - loss: 0.7199 - acc: 0.7324 - val_loss: 0.6037 - val_acc: 0.7703\n",
      "Epoch 30/35\n",
      "47/47 [==============================] - 9s 190ms/step - loss: 0.7152 - acc: 0.7358 - val_loss: 1.0423 - val_acc: 0.5797\n",
      "Epoch 31/35\n",
      "47/47 [==============================] - 9s 191ms/step - loss: 0.7087 - acc: 0.7445 - val_loss: 0.6401 - val_acc: 0.7750\n",
      "Epoch 32/35\n",
      "47/47 [==============================] - 9s 194ms/step - loss: 0.7021 - acc: 0.7418 - val_loss: 0.5139 - val_acc: 0.8281\n",
      "Epoch 33/35\n",
      "47/47 [==============================] - 9s 193ms/step - loss: 0.6649 - acc: 0.7532 - val_loss: 0.6206 - val_acc: 0.7766\n",
      "Epoch 34/35\n",
      "47/47 [==============================] - 9s 188ms/step - loss: 0.6915 - acc: 0.7371 - val_loss: 0.4565 - val_acc: 0.8609\n",
      "Epoch 35/35\n",
      "47/47 [==============================] - 9s 200ms/step - loss: 0.6402 - acc: 0.7686 - val_loss: 0.4568 - val_acc: 0.8438\n"
     ]
    },
    {
     "data": {
      "text/plain": [
       "<tensorflow.python.keras.callbacks.History at 0x2160a7a9908>"
      ]
     },
     "execution_count": 21,
     "metadata": {},
     "output_type": "execute_result"
    }
   ],
   "source": [
    "model.fit_generator(x_train,steps_per_epoch=47,epochs=35,validation_data=x_test,validation_steps=20)"
   ]
  },
  {
   "cell_type": "code",
   "execution_count": 17,
   "metadata": {},
   "outputs": [
    {
     "data": {
      "text/plain": [
       "20.0"
      ]
     },
     "execution_count": 17,
     "metadata": {},
     "output_type": "execute_result"
    }
   ],
   "source": [
    "640/32"
   ]
  },
  {
   "cell_type": "code",
   "execution_count": 22,
   "metadata": {},
   "outputs": [],
   "source": [
    "model.save(\"animal.h5\")"
   ]
  },
  {
   "cell_type": "code",
   "execution_count": 23,
   "metadata": {},
   "outputs": [
    {
     "data": {
      "text/plain": [
       "'C:\\\\jppy'"
      ]
     },
     "execution_count": 23,
     "metadata": {},
     "output_type": "execute_result"
    }
   ],
   "source": [
    "pwd"
   ]
  },
  {
   "cell_type": "code",
   "execution_count": null,
   "metadata": {},
   "outputs": [],
   "source": []
  }
 ],
 "metadata": {
  "kernelspec": {
   "display_name": "Python 3",
   "language": "python",
   "name": "python3"
  },
  "language_info": {
   "codemirror_mode": {
    "name": "ipython",
    "version": 3
   },
   "file_extension": ".py",
   "mimetype": "text/x-python",
   "name": "python",
   "nbconvert_exporter": "python",
   "pygments_lexer": "ipython3",
   "version": "3.7.3"
  }
 },
 "nbformat": 4,
 "nbformat_minor": 2
}
